{
  "nbformat": 4,
  "nbformat_minor": 0,
  "metadata": {
    "colab": {
      "provenance": [],
      "include_colab_link": true
    },
    "kernelspec": {
      "name": "python3",
      "display_name": "Python 3"
    },
    "language_info": {
      "name": "python"
    }
  },
  "cells": [
    {
      "cell_type": "markdown",
      "metadata": {
        "id": "view-in-github",
        "colab_type": "text"
      },
      "source": [
        "<a href=\"https://colab.research.google.com/github/anumit-web/Seaborn-tutorial-3/blob/main/Seaborn_test_3_2.ipynb\" target=\"_parent\"><img src=\"https://colab.research.google.com/assets/colab-badge.svg\" alt=\"Open In Colab\"/></a>"
      ]
    },
    {
      "cell_type": "markdown",
      "source": [
        "### Seaborn\n",
        "\n",
        "Python visualization library\n",
        "\n",
        "The Ultimate Python Seaborn Tutorial: Gotta Catch 'Em All\n",
        "\n",
        "https://elitedatascience.com/python-seaborn-tutorial"
      ],
      "metadata": {
        "id": "Oddud14LnY0w"
      }
    },
    {
      "cell_type": "code",
      "source": [
        "import numpy as np\n",
        "import pandas as pd\n",
        "import matplotlib.pyplot as plt\n",
        "import seaborn as sns\n",
        "sns.set_theme(style=\"darkgrid\")"
      ],
      "metadata": {
        "id": "mOFrbP1TJKj3"
      },
      "execution_count": 1,
      "outputs": []
    }
  ]
}